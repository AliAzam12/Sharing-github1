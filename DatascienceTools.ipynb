{
  "metadata": {
    "language_info": {
      "codemirror_mode": {
        "name": "python",
        "version": 3
      },
      "file_extension": ".py",
      "mimetype": "text/x-python",
      "name": "python",
      "nbconvert_exporter": "python",
      "pygments_lexer": "ipython3",
      "version": "3.8"
    },
    "kernelspec": {
      "name": "python",
      "display_name": "Python (Pyodide)",
      "language": "python"
    }
  },
  "nbformat_minor": 4,
  "nbformat": 4,
  "cells": [
    {
      "cell_type": "markdown",
      "source": "# Data Science Tools",
      "metadata": {}
    },
    {
      "cell_type": "markdown",
      "source": "## Data science is the domain of study that deals with vast volumes of data using modern tools and techniques to find unseen patterns, derive meaningful information, and make business decisions. Data science uses complex machine learning algorithms to build predictive models.",
      "metadata": {}
    },
    {
      "cell_type": "markdown",
      "source": "1. Python",
      "metadata": {}
    },
    {
      "cell_type": "markdown",
      "source": "2. R",
      "metadata": {}
    },
    {
      "cell_type": "markdown",
      "source": "3. SQL",
      "metadata": {}
    },
    {
      "cell_type": "markdown",
      "source": "4. Java",
      "metadata": {}
    },
    {
      "cell_type": "markdown",
      "source": "5. Julia",
      "metadata": {}
    },
    {
      "cell_type": "markdown",
      "source": "1. scikit-learn\n2. TensorFlow\n3. PyTorch\n4. Panda\n5. Keras",
      "metadata": {}
    },
    {
      "cell_type": "markdown",
      "source": "| Data | Science | Tools |\n| --- | --- | --- |\n| MATLAB | Excel | ggplot2 |",
      "metadata": {}
    },
    {
      "cell_type": "markdown",
      "source": "$\\hat{Y} = \\hat{\\beta}_{0} + \\sum \\limits _{j=1} ^{p} X_{j}\\hat{\\beta}_{j} $",
      "metadata": {}
    },
    {
      "cell_type": "markdown",
      "source": "$$\n  \\int_0^\\infty \\frac{x^3}{e^x-1}\\,dx = \\frac{\\pi^4}{15}\n$$",
      "metadata": {}
    },
    {
      "cell_type": "code",
      "source": "import time\n\nseconds = 52910\n\nconvert = time.strftime(\"%H:%M:%S\", time.gmtime(seconds))\n\nprint(convert)",
      "metadata": {
        "trusted": true
      },
      "execution_count": 6,
      "outputs": [
        {
          "name": "stdout",
          "text": "14:41:50\n",
          "output_type": "stream"
        }
      ]
    },
    {
      "cell_type": "code",
      "source": "x=32\ny=19\na=40\nb=10\n\nmul = x * y;\nadd = a + b;\nprint(\"Multiplication of two numbers: \",mul)\nprint(\"Addittion of two numbers: \",add)",
      "metadata": {
        "trusted": true
      },
      "execution_count": 8,
      "outputs": [
        {
          "name": "stdout",
          "text": "Multiplication of two numbers:  608\nAddittion of two numbers:  50\n",
          "output_type": "stream"
        }
      ]
    },
    {
      "cell_type": "markdown",
      "source": "1. The objective of the data scientist is to explore\n2. sort and analyze megadata from various sources in order to take advantage of them.\n3. reach conclusions to optimize business processes or for decision support.",
      "metadata": {}
    },
    {
      "cell_type": "code",
      "source": "",
      "metadata": {},
      "execution_count": null,
      "outputs": []
    }
  ]
}